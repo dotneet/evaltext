{
 "cells": [
  {
   "cell_type": "markdown",
   "source": [
    "# Basic Usage\n",
    "\n",
    "## Install evaltext"
   ],
   "metadata": {
    "collapsed": false
   }
  },
  {
   "cell_type": "code",
   "execution_count": null,
   "outputs": [],
   "source": [
    "pip install evaltext"
   ],
   "metadata": {
    "collapsed": false
   }
  },
  {
   "cell_type": "markdown",
   "source": [
    "# Run Code"
   ],
   "metadata": {
    "collapsed": false
   }
  },
  {
   "cell_type": "code",
   "execution_count": null,
   "outputs": [],
   "source": [
    "import logging\n",
    "\n",
    "from dotenv import load_dotenv\n",
    "\n",
    "from evaltext import GeneratorType\n",
    "from evaltext import S\n",
    "from evaltext.runner import create_runner\n",
    "\n",
    "logging.basicConfig(level=logging.INFO)\n",
    "\n",
    "load_dotenv()\n",
    "\n",
    "runner = create_runner([\n",
    "    GeneratorType.OPENAI_GPT_4,\n",
    "    GeneratorType.OPENAI_GPT_3_5_TURBO,\n",
    "    GeneratorType.OPENAI_DAVINCI_003,\n",
    "    GeneratorType.OPENAI_DAVINCI_002,\n",
    "], verbose=True)\n",
    "\n",
    "\n",
    "def scoring(text) -> float:\n",
    "    return (\n",
    "        S(text)\n",
    "        .line(0, lambda s: s.not_contains_regex(r\"(\\w+):\"))\n",
    "        .contains(\"Action:\")\n",
    "        .contains(\"Action Input:\")\n",
    "        .not_contains(\"Action:\", greater_than=1)\n",
    "        .not_contains(\"Action Input:\", greater_than=1)\n",
    "        .not_contains(\"Final Answer:\")\n",
    "        .part(r\"Action:\\s*(.+)\\s*\", lambda s: s.one_of(['google_search', 'webpage_get', 'calculator']))\n",
    "        .part_p(r\"Action Input:\\s*(.+)\\s*\", lambda t: t.startswith(\"BOCCHI\"))\n",
    "        .score()\n",
    "    )\n",
    "\n",
    "\n",
    "# output results to 'output/score.jsonl' by default.\n",
    "runner.measure('examples/prompts/prompt001.txt', scoring)"
   ],
   "metadata": {
    "collapsed": false
   }
  }
 ],
 "metadata": {
  "kernelspec": {
   "display_name": "Python 3",
   "language": "python",
   "name": "python3"
  },
  "language_info": {
   "codemirror_mode": {
    "name": "ipython",
    "version": 2
   },
   "file_extension": ".py",
   "mimetype": "text/x-python",
   "name": "python",
   "nbconvert_exporter": "python",
   "pygments_lexer": "ipython2",
   "version": "2.7.6"
  }
 },
 "nbformat": 4,
 "nbformat_minor": 0
}
